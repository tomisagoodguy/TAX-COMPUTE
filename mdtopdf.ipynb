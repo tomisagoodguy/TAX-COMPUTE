{
 "cells": [
  {
   "cell_type": "code",
   "execution_count": 2,
   "id": "bf1b8f08",
   "metadata": {},
   "outputs": [
    {
     "name": "stdout",
     "output_type": "stream",
     "text": [
      "Pandoc 已存在。\n",
      "正在轉換 交屋流程.md -> 交屋流程報告.docx ...\n",
      "轉換成功！\n",
      "檔案已儲存至：c:\\Users\\user\\Documents\\GitHub\\TAX-COMPUTE\\交屋流程報告.docx\n"
     ]
    }
   ],
   "source": [
    "import pypandoc\n",
    "import os\n",
    "\n",
    "\n",
    "def install_pandoc_if_needed():\n",
    "    \"\"\"\n",
    "    檢查並在需要時自動下載 Pandoc。\n",
    "    \"\"\"\n",
    "    try:\n",
    "        # 嘗試獲取 pandoc 路徑，若失敗則會引發 OSError\n",
    "        pypandoc.get_pandoc_path()\n",
    "        print(\"Pandoc 已存在。\")\n",
    "    except OSError:\n",
    "        print(\"找不到 Pandoc，正在自動下載...\")\n",
    "        pypandoc.download_pandoc()\n",
    "        print(\"Pandoc 下載完成。\")\n",
    "\n",
    "\n",
    "def convert_md_to_word(md_file: str, output_file: str):\n",
    "    \"\"\"\n",
    "    使用 pypandoc 將 Markdown 檔案轉換為 Word (.docx) 檔案。\n",
    "    \n",
    "    此方法僅依賴 Pandoc，無需 LaTeX 環境。\n",
    "    \n",
    "    Args:\n",
    "        md_file (str): 輸入的 Markdown 檔案路徑。\n",
    "        output_file (str): 輸出的 Word 檔案路徑。\n",
    "    \"\"\"\n",
    "    if not os.path.exists(md_file):\n",
    "        print(f\"錯誤：檔案 {md_file} 不存在。\")\n",
    "        return\n",
    "\n",
    "    try:\n",
    "        print(f\"正在轉換 {md_file} -> {output_file} ...\")\n",
    "        # 將輸出格式 'to' 指定為 'docx'\n",
    "        pypandoc.convert_file(\n",
    "            source_file=md_file,\n",
    "            to='docx',\n",
    "            outputfile=output_file,\n",
    "            extra_args=[]  # 轉換為 Word 時通常不需要額外參數\n",
    "        )\n",
    "        print(\"轉換成功！\")\n",
    "        print(f\"檔案已儲存至：{os.path.abspath(output_file)}\")\n",
    "    except Exception as e:\n",
    "        print(f\"轉換失敗：{e}\")\n",
    "\n",
    "\n",
    "# --- 主程式執行區 ---\n",
    "# 1. 確保 Pandoc 存在\n",
    "install_pandoc_if_needed()\n",
    "\n",
    "# 2. 執行轉換\n",
    "md_input_file = '交屋流程.md'\n",
    "# 將輸出檔案的副檔名改為 .docx\n",
    "word_output_file = '交屋流程報告.docx'\n",
    "\n",
    "convert_md_to_word(md_input_file, word_output_file)"
   ]
  }
 ],
 "metadata": {
  "kernelspec": {
   "display_name": "FINLAB",
   "language": "python",
   "name": "python3"
  },
  "language_info": {
   "codemirror_mode": {
    "name": "ipython",
    "version": 3
   },
   "file_extension": ".py",
   "mimetype": "text/x-python",
   "name": "python",
   "nbconvert_exporter": "python",
   "pygments_lexer": "ipython3",
   "version": "3.10.18"
  }
 },
 "nbformat": 4,
 "nbformat_minor": 5
}
